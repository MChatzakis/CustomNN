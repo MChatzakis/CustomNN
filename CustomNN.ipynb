{
  "cells": [
    {
      "cell_type": "markdown",
      "metadata": {
        "id": "GGZawn6zjw8B"
      },
      "source": [
        "# Homework 1 - Emmanouil Chatzakis, 353068\n",
        "\n",
        "In this homework, we're going to build a neural network without using deep learning packages.\n",
        "\n",
        "Specifically, we're going to build a neural network that annotate cells to cell types in the Pancreas tissue. To do so, we'll need a few building blocks:\n",
        "- Fully-connected layer, $f(X)=X \\cdot W + \\vec{b}$\n",
        "- Nonlinearity layer (ReLU in this homework)\n",
        "- Loss function (Cross-entropy in this homework)\n",
        "- Backprop algorithm - a stochastic gradient descent with backpropageted gradients\n",
        "\n",
        "Reference: \n",
        "- https://github.com/yandexdataschool/Practical_DL/tree/fall23\n",
        "- https://github.com/theislab/scarches-reproducibility"
      ]
    },
    {
      "cell_type": "code",
      "execution_count": null,
      "metadata": {
        "colab": {
          "base_uri": "https://localhost:8080/"
        },
        "collapsed": true,
        "id": "U_M_6S9Ujw8C",
        "outputId": "173ca758-099b-4fc0-9056-dd5717d38034"
      },
      "outputs": [],
      "source": [
        "import numpy as np\n",
        "\n",
        "np.random.seed(0)"
      ]
    },
    {
      "cell_type": "markdown",
      "metadata": {
        "id": "jF1dyLBTjw8D"
      },
      "source": [
        "## 0. Create the Parent Class 'Layer' (0 pt)\n",
        "\n",
        "As we learned in the lecture, we need layers that can do both forward pass and backward pass. Here we define the parent class of all layers."
      ]
    },
    {
      "cell_type": "code",
      "execution_count": 24,
      "metadata": {
        "collapsed": true,
        "id": "fQv1zgRUjw8D"
      },
      "outputs": [],
      "source": [
        "class Layer:\n",
        "\n",
        "    \"\"\"\n",
        "    Each layer performs two things:\n",
        "    1. Forward pass: Process input to get output: output = layer.forward(input)\n",
        "    2. Backward pass: Back-propagate gradients through itself: grad_input = layer.backward(input, grad_output)\n",
        "\n",
        "    The layers that contain learnable parameters also update their parameters during layer.backward.\n",
        "    \"\"\"\n",
        "\n",
        "    def __init__(self):\n",
        "        \"\"\"\n",
        "        Initialize layer parameters.\n",
        "        \"\"\"\n",
        "\n",
        "        # Here we use a dummy layer that does nothing.\n",
        "        pass\n",
        "\n",
        "    def forward(self, input):\n",
        "        \"\"\"\n",
        "        Takes input data of shape [batch, input_dims], returns output data [batch, output_dims]\n",
        "        \"\"\"\n",
        "\n",
        "        # Here we use a dummy layer that returns the input.\n",
        "        return input\n",
        "\n",
        "    def backward(self, input, grad_output):\n",
        "        \"\"\"\n",
        "        Performs a backpropagation step through the layer.\n",
        "\n",
        "        We need to apply the chain rule to compute the gradients of the input x:\n",
        "        d loss / d x  = (d loss / d layer) * (d layer / d x)\n",
        "\n",
        "        Grad_output provides us d loss / d layer, so we only need to multiply it by d layer / d x.\n",
        "\n",
        "        Note that if the layer has trainable parameters, we also need to update them using d loss / d layer.\n",
        "        \"\"\"\n",
        "\n",
        "        # The gradient of a dummy layer is grad_output\n",
        "        return grad_output"
      ]
    },
    {
      "cell_type": "markdown",
      "metadata": {
        "id": "U3Q_CChKjw8E"
      },
      "source": [
        "## 1. Build layers\n",
        "\n",
        "We will shortly introduce our dataset's structure in this section, and it should be enough to complete the functions in this section. However, if you find knowing the dataset structure is super helpful to implement the functions of this section, *you can jump to Section 2* and check the dataset structure before going through this section.\n",
        "\n",
        "### 1.1. Nonlinearity layer - ReLU (1 pt) \n",
        "\n",
        "We start from the simplest layer: nonlinearity layer. It simply applies a nonlinearity to each element of your network and it contains no trainable parameter.\n",
        "\n",
        "Here we implement ReLU. \n",
        "\n",
        "Check this link to review ReLU if needed: https://www.v7labs.com/blog/neural-networks-activation-functions"
      ]
    },
    {
      "cell_type": "code",
      "execution_count": 25,
      "metadata": {
        "collapsed": true,
        "id": "Sj5NNWB9jw8E"
      },
      "outputs": [],
      "source": [
        "class ReLU(Layer):\n",
        "    def __init__(self):\n",
        "        \"\"\"\n",
        "        ReLU layer applies elementwise rectified linear to the elements in the inputs.\n",
        "        There is nothing to initialize in this simple implementation.\n",
        "        \"\"\"\n",
        "\n",
        "        pass\n",
        "\n",
        "    def forward(self, input):\n",
        "        \"\"\"\n",
        "        Apply elementwise ReLU to the input\n",
        "        \"\"\"\n",
        "\n",
        "        # ReLU keeps only the positive elements and discards the negative elements\n",
        "        output = np.maximum(0, input)\n",
        "\n",
        "        return output\n",
        "\n",
        "    def backward(self, input, grad_output):\n",
        "        \"\"\"\n",
        "        Compute the gradient of loss.\n",
        "        \"\"\"\n",
        "\n",
        "        d_input = (\n",
        "            input > 0\n",
        "        )  # 1 if input > 0, 0 otherwise (gradient of f'(x) = 1 for x > 0, 0 otherwise)\n",
        "        grad_input = d_input * grad_output\n",
        "\n",
        "        return grad_input"
      ]
    },
    {
      "cell_type": "markdown",
      "metadata": {
        "id": "aihMC0K8jw8E"
      },
      "source": [
        "### 1.2. Fully-connected Layer (2 pts)\n",
        "\n",
        "After implementing the simplest layer, we come to a more complicated one: a fully-connected layer. Unlike a nonlinearity layer, a fully-connected layer has trainable parameters.\n",
        "\n",
        "A fully-connected layer applies an affine transformation. It can be described as: \n",
        "$$f(X)= X \\cdot W + \\vec b ,$$\n",
        "\n",
        "where\n",
        "* X is the input of shape [batch_size, input_dims],\n",
        "* W is a weight matrix [input_dims, output_dims],\n",
        "* and b is a vector of outputs_dims biases.\n",
        "\n",
        "W and b are\n",
        "* initialized when the layer is created,\n",
        "* and updated each time backward is called."
      ]
    },
    {
      "cell_type": "code",
      "execution_count": 26,
      "metadata": {
        "collapsed": true,
        "id": "VOkSrmYzjw8E"
      },
      "outputs": [],
      "source": [
        "class Fully_connected(Layer):\n",
        "    def __init__(self, input_dims, output_dims, learning_rate=0.1):\n",
        "        \"\"\"\n",
        "        Fully_connected layer: f(x) = <x*W> + b\n",
        "        We initialize W, b, and learning rate to update W and b.\n",
        "        \"\"\"\n",
        "        # Here we use normal initialization for W and zero initialization for b\n",
        "\n",
        "        # Using normal distribution to initialize weights\n",
        "        self.scale_factor = 0.01\n",
        "        self.weights = np.random.normal(\n",
        "            scale=self.scale_factor, size=(input_dims, output_dims)\n",
        "        )\n",
        "        # Use this for random init:\n",
        "        # self.weights = np.random.randn(input_dims, output_dims) * self.scale_factor\n",
        "\n",
        "        self.biases = np.zeros((1, output_dims))\n",
        "        self.learning_rate = learning_rate\n",
        "\n",
        "    def forward(self, input):\n",
        "        \"\"\"\n",
        "        Perform f(x) = <x*W> + b .\n",
        "\n",
        "        input shape: [batch, input_dims]\n",
        "        output shape: [batch, output_dims]\n",
        "        \"\"\"\n",
        "\n",
        "        output = np.dot(input, self.weights) + self.biases\n",
        "\n",
        "        return output\n",
        "\n",
        "    def backward(self, input, grad_output):\n",
        "        # Calculate  d loss / d x  = (d loss / d layer) * (d layer / d x)\n",
        "\n",
        "        # Calculate the grad_input to back propagate:\n",
        "        grad_input = np.dot(grad_output, self.weights.T)\n",
        "\n",
        "        # Here we perform a stochastic gradient descent (SGD) step: x = x - learning_rate * gradient_of_x.\n",
        "        # Update parameter W\n",
        "        self.weights = self.weights - self.learning_rate * np.dot(input.T, grad_output)\n",
        "\n",
        "        # Update parameter b\n",
        "        self.biases = self.biases - self.learning_rate * np.sum(\n",
        "            grad_output, axis=0, keepdims=True\n",
        "        )\n",
        "\n",
        "        return grad_input"
      ]
    },
    {
      "cell_type": "code",
      "execution_count": 27,
      "metadata": {},
      "outputs": [
        {
          "name": "stdout",
          "output_type": "stream",
          "text": [
            "X Shape: (10, 3)\n",
            "\n",
            "W Shape: (3, 4)\n",
            "b Shape: (1, 4)\n",
            "\n",
            "Output Shape: (10, 4)\n",
            "RELU Output Shape: (10, 4)\n",
            "\n",
            "Output:\n",
            " [[-0.00244976  0.00433787 -0.02100049 -0.04402913]\n",
            " [ 0.00076     0.01434846  0.01332934 -0.00805487]\n",
            " [ 0.00239852  0.00366827 -0.00921458 -0.01917348]\n",
            " [-0.00549772 -0.00261837 -0.01712191 -0.02705211]\n",
            " [-0.00096332  0.00172639 -0.00991357 -0.01991455]\n",
            " [-0.00388643  0.00421801  0.0175704   0.01426838]\n",
            " [ 0.01334501  0.00756629  0.01348222  0.0197822 ]\n",
            " [ 0.00087989  0.00606686  0.01261434  0.00798583]\n",
            " [ 0.00839961  0.00617115 -0.03852329 -0.063096  ]\n",
            " [-0.01131398 -0.00275329  0.00511243  0.0012724 ]]\n",
            "\n",
            "RELU Output:\n",
            " [[0.         0.00433787 0.         0.        ]\n",
            " [0.00076    0.01434846 0.01332934 0.        ]\n",
            " [0.00239852 0.00366827 0.         0.        ]\n",
            " [0.         0.         0.         0.        ]\n",
            " [0.         0.00172639 0.         0.        ]\n",
            " [0.         0.00421801 0.0175704  0.01426838]\n",
            " [0.01334501 0.00756629 0.01348222 0.0197822 ]\n",
            " [0.00087989 0.00606686 0.01261434 0.00798583]\n",
            " [0.00839961 0.00617115 0.         0.        ]\n",
            " [0.         0.         0.00511243 0.0012724 ]]\n"
          ]
        }
      ],
      "source": [
        "# Very basic testing to ensure that syntax is correct.\n",
        "batch_size = 10\n",
        "\n",
        "X = np.random.randn(batch_size, 3)\n",
        "print(\"X Shape:\", X.shape)\n",
        "\n",
        "print()\n",
        "\n",
        "layer = Fully_connected(3, 4)\n",
        "print(\"W Shape:\", layer.weights.shape)\n",
        "print(\"b Shape:\", layer.biases.shape)\n",
        "\n",
        "print()\n",
        "\n",
        "output = layer.forward(X)\n",
        "print(\"Output Shape:\", output.shape)\n",
        "RELU_output = ReLU().forward(output)\n",
        "print(\"RELU Output Shape:\", RELU_output.shape)\n",
        "\n",
        "print()\n",
        "print(\"Output:\\n\", output)\n",
        "print(\"\\nRELU Output:\\n\", RELU_output)"
      ]
    },
    {
      "cell_type": "markdown",
      "metadata": {
        "id": "pvXCRmwKjw8G"
      },
      "source": [
        "### 1.3. The loss function - softmax cross-entropy (2 pts)\n",
        "\n",
        "Our model outputs the logits. Since we want to predict probabilities, it would be logical for us to apply softmax nonlinearity to our output logits and compute loss with predicted probabilities.\n",
        "\n",
        "If you are not familiar with softmax or cross-entropy loss, you can check:\n",
        "- Softmax: https://en.wikipedia.org/wiki/Softmax_function\n",
        "- Cross-entropy loss: https://ml-cheatsheet.readthedocs.io/en/latest/loss_functions.html#cross-entropy\n",
        "\n",
        "\n",
        "(We encourage you to first write down the expression for cross-entropy as a function of softmax logits. You can then try to rewrite it into a more concise form.)"
      ]
    },
    {
      "cell_type": "code",
      "execution_count": 28,
      "metadata": {},
      "outputs": [],
      "source": [
        "def batch_softmax(logits):\n",
        "    \"\"\"\n",
        "    Compute softmax activations.\n",
        "    logits shape: [batch_size, n_classes]\n",
        "    output shape: [batch_size, n_classes]\n",
        "    \"\"\"\n",
        "\n",
        "    expon_logits = np.exp(logits)\n",
        "    softmax_logists = expon_logits / np.sum(expon_logits, axis=1, keepdims=True)\n",
        "\n",
        "    return softmax_logists\n",
        "\n",
        "\n",
        "def toOneHot(true_index, num_classes):\n",
        "    \"\"\"\n",
        "    Convert class index to one hot vector.\n",
        "    true_index shape: [batch_size, 1]\n",
        "    \"\"\"\n",
        "\n",
        "    one_hot_batch = np.zeros((true_index.shape[0], num_classes))\n",
        "    one_hot_batch[np.arange(true_index.shape[0]), true_index] = 1\n",
        "\n",
        "    return one_hot_batch"
      ]
    },
    {
      "cell_type": "code",
      "execution_count": 29,
      "metadata": {},
      "outputs": [
        {
          "name": "stdout",
          "output_type": "stream",
          "text": [
            "Synthetic Logits Shape: (5, 4)\n",
            "Softmax Logits Shape: (5, 4)\n",
            "\n",
            "Logits:\n",
            " [[-1.70627019  1.9507754  -0.50965218 -0.4380743 ]\n",
            " [-1.25279536  0.77749036 -1.61389785 -0.21274028]\n",
            " [-0.89546656  0.3869025  -0.51080514 -1.18063218]\n",
            " [-0.02818223  0.42833187  0.06651722  0.3024719 ]\n",
            " [-0.63432209 -0.36274117 -0.67246045 -0.35955316]]\n",
            "\n",
            "Softmax Logits:\n",
            " [[0.0214546  0.83129512 0.0709913  0.07625898]\n",
            " [0.08235507 0.62723784 0.05739388 0.23301321]\n",
            " [0.14649488 0.52813903 0.2152181  0.110148  ]\n",
            " [0.19724767 0.31136761 0.21683997 0.27454475]\n",
            " [0.2178249  0.28579434 0.20967384 0.28670691]]\n"
          ]
        }
      ],
      "source": [
        "batch_size = 5\n",
        "classes = 4\n",
        "\n",
        "synthetic_logits = np.random.randn(batch_size, classes)\n",
        "print(\"Synthetic Logits Shape:\", synthetic_logits.shape)\n",
        "\n",
        "softmax_logits = batch_softmax(synthetic_logits)\n",
        "print(\"Softmax Logits Shape:\", softmax_logits.shape)\n",
        "\n",
        "print()\n",
        "\n",
        "print(\"Logits:\\n\", synthetic_logits)\n",
        "print()\n",
        "print(\"Softmax Logits:\\n\", softmax_logits)"
      ]
    },
    {
      "cell_type": "code",
      "execution_count": 30,
      "metadata": {},
      "outputs": [
        {
          "name": "stdout",
          "output_type": "stream",
          "text": [
            "True Labels Shape: (4,)\n",
            "One Hot Labels:\n",
            " [[1. 0. 0. 0. 0.]\n",
            " [1. 0. 0. 0. 0.]\n",
            " [0. 0. 1. 0. 0.]\n",
            " [0. 0. 0. 1. 0.]]\n",
            "One Hot Labels Shape: (4, 5)\n"
          ]
        }
      ],
      "source": [
        "true_labels = np.array([0, 0, 2, 3])\n",
        "classes = 5\n",
        "print(\"True Labels Shape:\", true_labels.shape)\n",
        "\n",
        "one_hot_true_labels = toOneHot(true_labels, classes)\n",
        "print(\"One Hot Labels:\\n\", one_hot_true_labels)\n",
        "print(\"One Hot Labels Shape:\", one_hot_true_labels.shape)"
      ]
    },
    {
      "cell_type": "code",
      "execution_count": 31,
      "metadata": {
        "collapsed": true,
        "id": "jPw8k28mjw8G"
      },
      "outputs": [],
      "source": [
        "def softmax_crossentropy_with_logits(logits, reference_answers):\n",
        "    \"\"\"\n",
        "    Compute cross-entropy loss for each sample from output logits [batch,n_classes] and reference_answers [batch].\n",
        "    Note that the reference_answers are not one-hot labels. Instead, they are the index of the categories, e.g., 2 instead of [0,0,1].\n",
        "    The output (xentropy) shape should be [batch,1] or [batch].\n",
        "    \"\"\"\n",
        "\n",
        "    # Get the cross-entropy loss based on output logits and reference_answers\n",
        "    # Logits is the raw output without softmax. So, it is better to first derive and get the simplest form of the softmax cross-entropy before implementation.\n",
        "\n",
        "    softmax_logits = batch_softmax(logits)\n",
        "    reference_answers_one_hot = toOneHot(reference_answers, logits.shape[1])\n",
        "\n",
        "    # Element-wise multiplication\n",
        "    xentropy = -np.sum(\n",
        "        reference_answers_one_hot * np.log(softmax_logits), axis=1, keepdims=True\n",
        "    )\n",
        "\n",
        "    return xentropy\n",
        "\n",
        "\n",
        "def grad_softmax_crossentropy_with_logits(logits, reference_answers):\n",
        "    \"\"\"\n",
        "    Compute cross-entropy gradient from output logits [batch,n_classes] and reference_answers [batch].\n",
        "    Note that the reference_answers are not one-hot labels. Instead, they are the index of the categories, e.g., 2 instead of [0,0,1].\n",
        "    \"\"\"\n",
        "\n",
        "    # Get the cross-entropy gradient based on output logits and reference_answers\n",
        "    # Hint: Same as before, it is better to first derive and get the simplest form of the softmax cross-entropy gradient before implementation.\n",
        "    batch_size, n_classes = logits.shape\n",
        "    y_one_hot = toOneHot(reference_answers, n_classes)\n",
        "\n",
        "    softmax_logits = batch_softmax(logits)\n",
        "    grad_input = (-y_one_hot + softmax_logits) / batch_size\n",
        "\n",
        "    return grad_input"
      ]
    },
    {
      "cell_type": "code",
      "execution_count": 32,
      "metadata": {},
      "outputs": [
        {
          "name": "stdout",
          "output_type": "stream",
          "text": [
            "Logits shape: (5, 4)\n",
            "Reference Answers (oneHot):\n",
            " [[1. 0. 0. 0.]\n",
            " [1. 0. 0. 0.]\n",
            " [0. 0. 1. 0.]\n",
            " [0. 0. 0. 1.]\n",
            " [0. 1. 0. 0.]]\n",
            "\n",
            "\n",
            "--- Testing cross-entropy loss ---\n",
            "Loss shape: (5, 1)\n",
            "\n",
            "Logits:\n",
            " [[-0.81314628 -1.7262826   0.17742614 -0.40178094]\n",
            " [-1.63019835  0.46278226 -0.90729836  0.0519454 ]\n",
            " [ 0.72909056  0.12898291  1.13940068 -1.23482582]\n",
            " [ 0.40234164 -0.68481009 -0.87079715 -0.57884966]\n",
            " [-0.31155253  0.05616534 -1.16514984  0.90082649]]\n",
            "\n",
            "log(softmax):\n",
            " [[-1.72328713 -2.63642345 -0.7327147  -1.31192178]\n",
            " [-2.80617577 -0.71319517 -2.08327579 -1.12403203]\n",
            " [-1.16200814 -1.7621158  -0.75169802 -3.12592453]\n",
            " [-0.68913478 -1.77628651 -1.96227357 -1.67032609]\n",
            " [-1.82966309 -1.46194522 -2.6832604  -0.61728407]]\n",
            "\n",
            "Loss (per sample):\n",
            " [[1.72328713]\n",
            " [2.80617577]\n",
            " [0.75169802]\n",
            " [1.67032609]\n",
            " [1.46194522]]\n",
            "\n",
            "--- Testing cross-entropy loss gradient ---\n",
            "Gradient shape: (5, 4)\n",
            "Gradient:\n",
            " [[-0.1643043   0.01432339  0.09612051  0.0538604 ]\n",
            " [-0.18791287  0.09801516  0.02490433  0.06499337]\n",
            " [ 0.06257146  0.03433625 -0.10568697  0.00877927]\n",
            " [ 0.10040205  0.03385311  0.02810771 -0.16236286]\n",
            " [ 0.03209352 -0.15364301  0.01366799  0.10788149]]\n"
          ]
        }
      ],
      "source": [
        "# Do some testing here to ensure that the syntax is correct.\n",
        "batch_size = 5\n",
        "classes = 4\n",
        "\n",
        "synthetic_logits = np.random.randn(batch_size, classes)\n",
        "print(\"Logits shape:\", synthetic_logits.shape)\n",
        "\n",
        "reference_answers = np.array([0, 0, 2, 3, 1])\n",
        "print(\"Reference Answers (oneHot):\\n\", toOneHot(reference_answers, classes))\n",
        "print()\n",
        "print(\"\\n--- Testing cross-entropy loss ---\")\n",
        "\n",
        "loss = softmax_crossentropy_with_logits(synthetic_logits, reference_answers)\n",
        "print(\"Loss shape:\", loss.shape)\n",
        "\n",
        "print()\n",
        "\n",
        "print(\"Logits:\\n\", synthetic_logits)\n",
        "print()\n",
        "print(\"log(softmax):\\n\", np.log(batch_softmax(synthetic_logits)))\n",
        "print()\n",
        "print(\"Loss (per sample):\\n\", loss)\n",
        "\n",
        "print(\"\\n--- Testing cross-entropy loss gradient ---\")\n",
        "\n",
        "# Test also the grads!\n",
        "gradient = grad_softmax_crossentropy_with_logits(synthetic_logits, reference_answers)\n",
        "print(\"Gradient shape:\", gradient.shape)\n",
        "print(\"Gradient:\\n\", gradient)"
      ]
    },
    {
      "cell_type": "markdown",
      "metadata": {},
      "source": [
        "### 1.4. Network and Forward pass (1 pts)"
      ]
    },
    {
      "cell_type": "markdown",
      "metadata": {
        "id": "XErb4TrFjw8G"
      },
      "source": [
        "First, we define network as a list of layers, each applied on top of previous one."
      ]
    },
    {
      "cell_type": "code",
      "execution_count": 33,
      "metadata": {
        "collapsed": true,
        "id": "TOVs-C5pjw8G"
      },
      "outputs": [],
      "source": [
        "network = []\n",
        "network.append(Fully_connected(1000, 256))\n",
        "network.append(ReLU())\n",
        "network.append(Fully_connected(256, 64))\n",
        "network.append(ReLU())\n",
        "network.append(Fully_connected(64, 8))"
      ]
    },
    {
      "cell_type": "markdown",
      "metadata": {},
      "source": [
        "Here, we implement the forward pass."
      ]
    },
    {
      "cell_type": "code",
      "execution_count": 34,
      "metadata": {
        "collapsed": true,
        "id": "qUD5bRhBjw8G"
      },
      "outputs": [],
      "source": [
        "def forward(network, X):\n",
        "    \"\"\"\n",
        "    Compute the output of all network layers by applying them sequentially.\n",
        "    Note that we should return a list of outputs for each layer since we need them for backwrad pass.\n",
        "    \"\"\"\n",
        "\n",
        "    outputs = []\n",
        "    input = X\n",
        "\n",
        "    # Using network to get a list of outputs for each layer\n",
        "    for layer in network:\n",
        "        input = layer.forward(input)\n",
        "        outputs.append(input)\n",
        "\n",
        "    return outputs\n",
        "\n",
        "\n",
        "def predict(network, X):\n",
        "    \"\"\"\n",
        "    Use network to predict the result for each sample. Since we are doing classification, the result should be the index of the most likely class.\n",
        "    \"\"\"\n",
        "\n",
        "    # ToDo: using network to get the final output of the model\n",
        "    outputs = forward(network, X)\n",
        "    final_layer_output = outputs[-1]\n",
        "\n",
        "    prediction_probabilities = batch_softmax(final_layer_output)\n",
        "    prediction = np.argmax(prediction_probabilities, axis=1)\n",
        "\n",
        "    return prediction"
      ]
    },
    {
      "cell_type": "code",
      "execution_count": 35,
      "metadata": {},
      "outputs": [
        {
          "name": "stdout",
          "output_type": "stream",
          "text": [
            "X Shape: (5, 1000)\n",
            "\n",
            "Input shape: (5, 1000)\n",
            "Layer 0 output shape: (5, 256)\n",
            "Layer 1 output shape: (5, 256)\n",
            "Layer 2 output shape: (5, 64)\n",
            "Layer 3 output shape: (5, 64)\n",
            "Layer 4 output shape: (5, 8)\n",
            "Batch Predictions Shape: (5,)\n",
            "Batch Predictions:\n",
            " [1 2 5 4 1]\n"
          ]
        }
      ],
      "source": [
        "# Some Testing\n",
        "batch_size = 5\n",
        "X_features = 1000\n",
        "num_classes = 8  # Possible indices: 0,1,2,3,4,5,6,7\n",
        "\n",
        "X = np.random.randn(batch_size, X_features)\n",
        "print(\"X Shape:\", X.shape)\n",
        "\n",
        "print()\n",
        "\n",
        "print(\"Input shape:\", X.shape)\n",
        "network_outputs = forward(network, X)\n",
        "for i, out in enumerate(network_outputs):\n",
        "    print(\"Layer {} output shape: {}\".format(i, out.shape))\n",
        "\n",
        "batch_predictions = predict(network, X)\n",
        "print(\"Batch Predictions Shape:\", batch_predictions.shape)\n",
        "print(\"Batch Predictions:\\n\", batch_predictions)"
      ]
    },
    {
      "cell_type": "markdown",
      "metadata": {
        "id": "LdwEd2Gwjw8G"
      },
      "source": [
        "### 1.5. Train and Backprop (2 pts)\n",
        "\n",
        "We implement the training function here. The function takes a network, network input X, and ground truth y as the inputs.\n",
        "When calling this function, we want to have a forward pass and a backward pass."
      ]
    },
    {
      "cell_type": "code",
      "execution_count": 36,
      "metadata": {
        "collapsed": true,
        "id": "Yd92p8kMjw8H"
      },
      "outputs": [],
      "source": [
        "def train(network, X, y):\n",
        "    \"\"\"\n",
        "    Train your network on a given batch of X and y only once.\n",
        "    Here are the steps to train once:\n",
        "    1. Run forward to get all layer outputs.\n",
        "    2. Estimate loss and loss_grad.\n",
        "    3. Run layer.backward going from last layer to first.\n",
        "\n",
        "    Note that after you called backward for all layers, the layers with trainable parameters should have already updated.\n",
        "    \"\"\"\n",
        "\n",
        "    # Run forward to get outputs of all layers.\n",
        "    layer_outputs = forward(network, X)\n",
        "\n",
        "    # Since we need the layer input for backward pass, here we get a list of layer input.\n",
        "    # layer_input[i] is an input for network[i].\n",
        "    layer_inputs = []\n",
        "    layer_inputs.append(X)\n",
        "    for curr_out_index in range(len(layer_outputs) - 1):\n",
        "        curr_input = layer_outputs[curr_out_index]\n",
        "        layer_inputs.append(curr_input)\n",
        "\n",
        "    logits = layer_outputs[-1]\n",
        "\n",
        "    # Compute the loss and the initial gradient\n",
        "    loss = softmax_crossentropy_with_logits(logits, y)\n",
        "    loss_grad = grad_softmax_crossentropy_with_logits(logits, y)\n",
        "\n",
        "    # Propagate gradients through network layers using .backward\n",
        "    # Start from last layer and move to earlier layers\n",
        "    for i in range(len(network) - 1, -1, -1):\n",
        "        loss_grad = network[i].backward(layer_inputs[i], loss_grad)\n",
        "\n",
        "    return np.mean(loss)"
      ]
    },
    {
      "cell_type": "markdown",
      "metadata": {
        "id": "NwAmZNidjw8H"
      },
      "source": [
        "## 2. Test your network (2 pt)\n",
        "\n",
        "In this homework, we use a single-cell dataset: Pancreas Dataset. Our task is to classify cells to cell types based on the gene expression information. There are 8 different cell types. Cells are samples, genes are features, and cell types are classes.\n",
        "\n",
        "You need to load the data from '.csv' and implement a simple dataloader. (If you do not remember why we need a dataloader, you can check Exercise 1.)"
      ]
    },
    {
      "cell_type": "code",
      "execution_count": 37,
      "metadata": {},
      "outputs": [],
      "source": [
        "def to_categorical(cell_labels):\n",
        "    \"\"\"Convert string labels to categorical labels.\n",
        "\n",
        "    Args:\n",
        "        cell_labels: _description_\n",
        "\n",
        "    Returns:\n",
        "        _type_: _description_\n",
        "    \"\"\"\n",
        "\n",
        "    unique_categories = np.unique(cell_labels)\n",
        "    num_classses = unique_categories.shape[0]\n",
        "\n",
        "    classes_dict = {}\n",
        "    for i in range(num_classses):\n",
        "        cell_type = unique_categories[i]\n",
        "        classes_dict[cell_type] = i\n",
        "\n",
        "    labels = np.zeros((cell_labels.shape[0],))\n",
        "\n",
        "    # Replace the labels with the corresponding index\n",
        "    for i in range(cell_labels.shape[0]):\n",
        "        curr_label = cell_labels[i]\n",
        "        labels[i] = classes_dict[curr_label]\n",
        "\n",
        "    return labels, classes_dict"
      ]
    },
    {
      "cell_type": "code",
      "execution_count": 38,
      "metadata": {},
      "outputs": [
        {
          "name": "stdout",
          "output_type": "stream",
          "text": [
            "{'Blue': 0, 'Green': 1, 'Red': 2, 'Yellow': 3}\n",
            "[2. 0. 1. 2. 0. 1. 3.]\n"
          ]
        }
      ],
      "source": [
        "# Some testing\n",
        "string_classes = np.array([\"Red\", \"Blue\", \"Green\", \"Red\", \"Blue\", \"Green\", \"Yellow\"])\n",
        "categorical_labels, classes_dict = to_categorical(string_classes)\n",
        "\n",
        "print(classes_dict)\n",
        "print(categorical_labels)"
      ]
    },
    {
      "cell_type": "code",
      "execution_count": 39,
      "metadata": {},
      "outputs": [
        {
          "name": "stdout",
          "output_type": "stream",
          "text": [
            "\n",
            "--- Data Report ---\n",
            "Data (inputs) Shape: (8391, 1000). |Features|=1000 |Samples|=8391\n",
            "cell_type_per_sample (Raw Labels) Shape: (8391,)\n",
            "Classes map: {'Pancreas Acinar': 0, 'Pancreas Alpha': 1, 'Pancreas Beta': 2, 'Pancreas Delta': 3, 'Pancreas Ductal': 4, 'Pancreas Endothelial': 5, 'Pancreas Gamma': 6, 'Pancreas Stellate': 7}\n",
            "Labels Shape: (8391,)\n",
            "Labels: [5 0 0 ... 2 2 2]\n",
            "\n",
            "--- Splitting Report ---\n",
            "X Train: (6712, 1000)\n",
            "y Train: (6712,)\n",
            "X Val: (1679, 1000)\n",
            "y Val: (1679,)\n"
          ]
        }
      ],
      "source": [
        "# Load input data from 'data.csv'. Data in csv has 8391 rows and 1000 columns\n",
        "\n",
        "# 8391 rows mean there are 8391 cells.\n",
        "# 1000 columns mean 1000 genes are measured for each cell.\n",
        "\n",
        "# Load labels from 'label.csv' using numpy. Do not import other packages, e.g., pandas.\n",
        "data = np.loadtxt(\"data.csv\", delimiter=\",\")\n",
        "\n",
        "# There are 8391 strings in 'label.csv', and they are the cell type of the 8391 cells.\n",
        "# The input data and labels are aligned:\n",
        "# For example, the first string in 'label.csv' is the cell type of the first cell (frist row of data) of 'data.csv'\n",
        "# In other words, data[0] and cell_type_per_sample[0] should be paired.\n",
        "cell_type_per_sample = np.loadtxt(\"label.csv\", delimiter=\",\", dtype=str)\n",
        "\n",
        "# Get integer labels from the cell types of data type string\n",
        "raw_labels, classes_dict = to_categorical(cell_type_per_sample)\n",
        "labels = raw_labels.astype(int)\n",
        "\n",
        "# Split train and val data. You can choose the ratio of splitting, and you can decide whether to shuffle the data or not.\n",
        "shuffle = True\n",
        "train_ratio = 0.8  # 80% of the data is used for training, and 20% of the data is used for validation\n",
        "X = data\n",
        "y = labels\n",
        "\n",
        "if shuffle:\n",
        "    # Shuffle the data (optional but recommended)\n",
        "    indices = np.arange(len(labels))\n",
        "    np.random.shuffle(indices)\n",
        "\n",
        "    shuffled_labels = labels[indices]\n",
        "    shuffled_inputs = data[indices]\n",
        "\n",
        "    y = shuffled_labels\n",
        "    X = shuffled_inputs\n",
        "\n",
        "num_samples = len(labels)\n",
        "num_train_samples = int(train_ratio * num_samples)\n",
        "num_val_samples = num_samples - num_train_samples\n",
        "\n",
        "X_train = X[:num_train_samples]\n",
        "y_train = y[:num_train_samples]\n",
        "\n",
        "X_val = shuffled_inputs[num_train_samples:]\n",
        "y_val = y[num_train_samples:]\n",
        "\n",
        "print(\"\\n--- Data Report ---\")\n",
        "print(\n",
        "    f\"Data (inputs) Shape: {data.shape}. |Features|={data.shape[1]} |Samples|={data.shape[0]}\"\n",
        ")\n",
        "print(\"cell_type_per_sample (Raw Labels) Shape:\", cell_type_per_sample.shape)\n",
        "print(\"Classes map:\", classes_dict)\n",
        "print(\"Labels Shape:\", labels.shape)\n",
        "print(\"Labels:\", labels)\n",
        "\n",
        "print(\"\\n--- Splitting Report ---\")\n",
        "print(\"X Train:\", X_train.shape)\n",
        "print(\"y Train:\", y_train.shape)\n",
        "\n",
        "print(\"X Val:\", X_val.shape)\n",
        "print(\"y Val:\", y_val.shape)"
      ]
    },
    {
      "cell_type": "markdown",
      "metadata": {},
      "source": [
        "Now, we have the training and test data. We need a dataloader."
      ]
    },
    {
      "cell_type": "code",
      "execution_count": 40,
      "metadata": {
        "collapsed": true,
        "id": "iHuBzg4Djw8H"
      },
      "outputs": [],
      "source": [
        "# A mini-dataloader\n",
        "from tqdm import trange\n",
        "\n",
        "\n",
        "# Note: function signatures should remain the same, but the skeleton is just a guide and can be changed.\n",
        "def iterate_minibatches(inputs, targets, batchsize, shuffle=False):\n",
        "    assert len(inputs) == len(targets)\n",
        "\n",
        "    indices = np.arange(len(targets))\n",
        "    if shuffle:\n",
        "        # re-order the indices for shuffling the samples\n",
        "        np.random.shuffle(indices)\n",
        "\n",
        "    for start_idx in trange(0, len(inputs) - batchsize + 1, batchsize):\n",
        "        indexs = indices[start_idx : start_idx + batchsize]\n",
        "\n",
        "        yield inputs[indexs], targets[indexs]\n"
      ]
    },
    {
      "cell_type": "markdown",
      "metadata": {},
      "source": [
        "#### Testing"
      ]
    },
    {
      "cell_type": "code",
      "execution_count": 41,
      "metadata": {},
      "outputs": [
        {
          "name": "stdout",
          "output_type": "stream",
          "text": [
            "Test without shuffling:\n"
          ]
        },
        {
          "name": "stderr",
          "output_type": "stream",
          "text": [
            "100%|██████████| 3/3 [00:00<00:00, 41665.27it/s]\n"
          ]
        },
        {
          "name": "stdout",
          "output_type": "stream",
          "text": [
            "Iteration: 0\n",
            "Batch X Shape: (10, 3)\n",
            "Batch y Shape: (10,)\n",
            "---\n",
            "Iteration: 1\n",
            "Batch X Shape: (10, 3)\n",
            "Batch y Shape: (10,)\n",
            "---\n",
            "Iteration: 2\n",
            "Batch X Shape: (10, 3)\n",
            "Batch y Shape: (10,)\n",
            "---\n",
            "\n",
            "\n",
            "Test with shuffling:\n"
          ]
        },
        {
          "name": "stderr",
          "output_type": "stream",
          "text": [
            "100%|██████████| 3/3 [00:00<00:00, 56679.78it/s]"
          ]
        },
        {
          "name": "stdout",
          "output_type": "stream",
          "text": [
            "Iteration: 0\n",
            "Batch X Shape: (10, 3)\n",
            "Batch y Shape: (10,)\n",
            "---\n",
            "Iteration: 1\n",
            "Batch X Shape: (10, 3)\n",
            "Batch y Shape: (10,)\n",
            "---\n",
            "Iteration: 2\n",
            "Batch X Shape: (10, 3)\n",
            "Batch y Shape: (10,)\n",
            "---\n"
          ]
        },
        {
          "name": "stderr",
          "output_type": "stream",
          "text": [
            "\n"
          ]
        }
      ],
      "source": [
        "# Some testing\n",
        "\n",
        "batchsize = 10\n",
        "num_samples = 30\n",
        "X_features = 3\n",
        "\n",
        "inputs = np.random.randn(num_samples, X_features)\n",
        "targets = np.random.randn(\n",
        "    num_samples,\n",
        ")\n",
        "\n",
        "print(\"Test without shuffling:\")\n",
        "for index, batch_data in enumerate(\n",
        "    iterate_minibatches(inputs, targets, batchsize, False)\n",
        "):\n",
        "    batch_X = batch_data[0]\n",
        "    batch_y = batch_data[1]\n",
        "\n",
        "    print(\"Iteration:\", index)\n",
        "    print(\"Batch X Shape:\", batch_X.shape)\n",
        "    print(\"Batch y Shape:\", batch_y.shape)\n",
        "\n",
        "    print(\"---\")\n",
        "\n",
        "print(\"\\n\\nTest with shuffling:\")\n",
        "for index, batch_data in enumerate(\n",
        "    iterate_minibatches(inputs, targets, batchsize, True)\n",
        "):\n",
        "    batch_X = batch_data[0]\n",
        "    batch_y = batch_data[1]\n",
        "\n",
        "    print(\"Iteration:\", index)\n",
        "    print(\"Batch X Shape:\", batch_X.shape)\n",
        "    print(\"Batch y Shape:\", batch_y.shape)\n",
        "\n",
        "    print(\"---\")"
      ]
    },
    {
      "cell_type": "markdown",
      "metadata": {},
      "source": [
        "Now, test your model! You should get a more than 90% accuracy for training data and a more than 85% accuracy for validation data."
      ]
    },
    {
      "cell_type": "code",
      "execution_count": 42,
      "metadata": {
        "colab": {
          "base_uri": "https://localhost:8080/",
          "height": 481
        },
        "collapsed": true,
        "id": "3FOu8r1Qjw8H",
        "outputId": "1f76da29-96ca-4518-9499-b6a324cf898c"
      },
      "outputs": [
        {
          "name": "stdout",
          "output_type": "stream",
          "text": [
            "Epoch 9\n",
            "Train accuracy: 0.9287842669845053\n",
            "Val accuracy: 0.8999404407385349\n"
          ]
        },
        {
          "data": {
            "image/png": "[encoded data removed]",
            "text/plain": [
              "<Figure size 640x480 with 1 Axes>"
            ]
          },
          "metadata": {},
          "output_type": "display_data"
        }
      ],
      "source": [
        "import matplotlib.pyplot as plt\n",
        "from IPython.display import clear_output\n",
        "\n",
        "train_log = []\n",
        "val_log = []\n",
        "\n",
        "for epoch in range(10):\n",
        "    for x_batch, y_batch in iterate_minibatches(\n",
        "        X_train, y_train, batchsize=256, shuffle=True\n",
        "    ):\n",
        "        train(network, x_batch, y_batch)\n",
        "\n",
        "    train_log.append(np.mean(predict(network, X_train) == y_train))\n",
        "    val_log.append(np.mean(predict(network, X_val) == y_val))\n",
        "\n",
        "    clear_output()\n",
        "    print(\"Epoch\", epoch)\n",
        "    print(\"Train accuracy:\", train_log[-1])\n",
        "    print(\"Val accuracy:\", val_log[-1])\n",
        "\n",
        "plt.plot(train_log, label=\"train accuracy\")\n",
        "plt.plot(val_log, label=\"val accuracy\")\n",
        "plt.legend(loc=\"best\")\n",
        "plt.grid()\n",
        "plt.show()"
      ]
    }
  ],
  "metadata": {
    "colab": {
      "provenance": []
    },
    "kernelspec": {
      "display_name": "Python 3 (ipykernel)",
      "language": "python",
      "name": "python3"
    },
    "language_info": {
      "codemirror_mode": {
        "name": "ipython",
        "version": 3
      },
      "file_extension": ".py",
      "mimetype": "text/x-python",
      "name": "python",
      "nbconvert_exporter": "python",
      "pygments_lexer": "ipython3",
      "version": "3.11.5"
    },
    "toc": {
      "colors": {
        "hover_highlight": "#DAA520",
        "navigate_num": "#000000",
        "navigate_text": "#333333",
        "running_highlight": "#FF0000",
        "selected_highlight": "#FFD700",
        "sidebar_border": "#EEEEEE",
        "wrapper_background": "#FFFFFF"
      },
      "moveMenuLeft": true,
      "nav_menu": {
        "height": "264px",
        "width": "252px"
      },
      "navigate_menu": true,
      "number_sections": true,
      "sideBar": true,
      "threshold": 4,
      "toc_cell": false,
      "toc_section_display": "block",
      "toc_window_display": false,
      "widenNotebook": false
    }
  },
  "nbformat": 4,
  "nbformat_minor": 0
}
